{
 "cells": [
  {
   "cell_type": "code",
   "execution_count": 1,
   "id": "5c3b7cda-5e43-47c1-ab47-e942e7994fda",
   "metadata": {},
   "outputs": [],
   "source": [
    "import numpy as np\n",
    "import sympy as smp\n",
    "from scipy.integrate import solve_ivp\n",
    "import matplotlib.pyplot as plt\n",
    "from matplotlib import animation\n",
    "from matplotlib.animation import PillowWriter"
   ]
  },
  {
   "cell_type": "code",
   "execution_count": 2,
   "id": "081c50ca-8333-40f8-9d8f-3766147151b8",
   "metadata": {},
   "outputs": [],
   "source": [
    "m,w,l,J_3,a,b,g,h,phi_0,t, k = smp.symbols(r'm \\omega l J_3 a b g h \\phi_0 t k')"
   ]
  },
  {
   "cell_type": "code",
   "execution_count": 3,
   "id": "4fa9d6f1-994b-4284-942c-cd38d398508e",
   "metadata": {},
   "outputs": [],
   "source": [
    "chi , phi, psi = smp.symbols(r'\\chi \\phi \\psi ', cls=smp.Function)"
   ]
  },
  {
   "cell_type": "code",
   "execution_count": 4,
   "id": "19401234-0548-48fb-92b0-127208111dfb",
   "metadata": {},
   "outputs": [],
   "source": [
    "#chi\n",
    "chi = chi(t)\n",
    "chi_d = smp.diff(chi, t)\n",
    "chi_dd = smp.diff(chi_d, t)\n",
    "\n",
    "#psi\n",
    "psi = psi(t)\n",
    "psi_d = smp.diff(psi, t)\n",
    "psi_dd = smp.diff(psi_d, t)\n",
    "\n",
    "#phi\n",
    "phi = phi(t)\n",
    "phi_d = smp.diff(phi, t)\n",
    "phi_dd = smp.diff(phi_d, t)"
   ]
  },
  {
   "cell_type": "code",
   "execution_count": 33,
   "id": "52a07d78-1c6b-49f1-9213-92d1791efa75",
   "metadata": {},
   "outputs": [],
   "source": [
    "l_1 = (a**2 - (J_3/m))/a\n",
    "K2 = (k**2)/m\n",
    "a11 = K2 - w**2 *(smp.sin(phi_0)**2 + 2*h*smp.cos(phi_0)*smp.sin(w*t))\n",
    "b12 = K2*(b-l) - w**2 *b*smp.cos(phi_0)**2\n",
    "b13 = - w**2 *a*smp.cos(phi_0)**2\n",
    "c11 = -(w**2 * smp.sin(phi_0) * smp.cos(phi_0))\n",
    "c12 = -( w**2 * b * (smp.cos(phi_0))**2)\n",
    "c13 = (K2*(b-l)) + (2*h*smp.sin(phi_0)*smp.sin(w*t) - a*(smp.cos(phi_0))**2)*w**2\n",
    "a12 = b*c11\n",
    "a13 = a*c11\n",
    "b11 = c11  \n",
    "f3 = chi_dd*(psi-phi)+(b*phi_d**2+chi*phi_d**2)*(phi-psi)-chi*phi_dd - 2*chi_d*phi_d + 2*w**2 *h*smp.sin(w*t)*smp.cos(phi_0)-c11*(b+a*(1-psi**2)-psi*phi*(b+chi))-g*smp.sin(phi_0) + w**2 *chi*(phi*(smp.cos(phi_0)**2)-psi*(smp.sin(phi_0)**2))\n",
    "A = -2*c11\n",
    "B = a*(w**2)*(smp.cos(phi_0)**2)\n",
    "D = (w**2)*smp.cos(2*phi_0)\n"
   ]
  },
  {
   "cell_type": "code",
   "execution_count": null,
   "id": "7b0ec7b8",
   "metadata": {},
   "outputs": [],
   "source": [
    "phi_dd = -f3/b - c11*chi - c12*phi - c13*psi + (l_1/(a*psi))*(C1-a11*chi-a13*psi + (b+chi)*phi_d**2 + (A*chi+B*psi+a*psi_d**2)*phi) + (1/(a*H*psi))*(l_1*(-a*psi*((b+chi)*(f3-c11*chi-c12*phi-c13*psi)+b*(b11*chi+b12*phi+b13*psi+g*smp.sin(phi_0)+w**2 *(-chi*phi*smp.cos(phi_0)**2 - 2*h*smp.sin(w*t)*smp.cos(phi_0)+((b+chi)*phi*psi+a*(psi**2 -1)-b)*smp.cos(phi_0)*smp.sin(phi_0) + chi*phi*smp.sin(phi_0)**2) + 2*chi_d*phi_d - (b+chi)*(phi-psi)*phi_d**2)) + (a*b - (b+chi)*l_1)*(C1-a11*chi-a12*phi-a13*psi + (b+chi)*phi_d**2 + (A*chi+B*psi+a*psi_d**2)*phi)))"
   ]
  }
 ],
 "metadata": {
  "kernelspec": {
   "display_name": "ProgMet",
   "language": "python",
   "name": "python3"
  },
  "language_info": {
   "codemirror_mode": {
    "name": "ipython",
    "version": 3
   },
   "file_extension": ".py",
   "mimetype": "text/x-python",
   "name": "python",
   "nbconvert_exporter": "python",
   "pygments_lexer": "ipython3",
   "version": "3.10.8"
  }
 },
 "nbformat": 4,
 "nbformat_minor": 5
}
