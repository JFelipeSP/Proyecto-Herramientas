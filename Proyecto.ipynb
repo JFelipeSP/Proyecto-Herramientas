{
 "cells": [
  {
   "cell_type": "code",
   "execution_count": 16,
   "id": "5c3b7cda-5e43-47c1-ab47-e942e7994fda",
   "metadata": {},
   "outputs": [],
   "source": [
    "import numpy as np\n",
    "import sympy as smp\n",
    "from scipy.integrate import solve_ivp\n",
    "import matplotlib.pyplot as plt\n",
    "from matplotlib import animation\n",
    "from matplotlib.animation import PillowWriter"
   ]
  },
  {
   "cell_type": "markdown",
   "id": "5b163c2c",
   "metadata": {},
   "source": [
    "<div style=\"text-align: center;\">\n",
    "    <img src=\"Pendulo.png\" alt=\"Pendulum Image\">\n",
    "</div>"
   ]
  },
  {
   "cell_type": "markdown",
   "id": "6454c06d",
   "metadata": {},
   "source": [
    "Para estudiar este problema consideramos que las oscilaciones de nuestro sistema se acercan a la posición de equilibrio relativo. Por lo tanto, podemos suponer: $$J_1 = J_2$$\n",
    "\n",
    "Por lo tanto, para el estado de equilibrio relativo los ángulos $\\varphi_{10}$ y $\\varphi_{20}$ son iguales, y entonces podemos escribir: $$\\rho = b + \\xi (t)$$ $$\\varphi_1 = \\varphi_0 + \\varphi (t)$$ $$\\varphi_2 = \\varphi_0 + \\psi (t)$$"
   ]
  },
  {
   "cell_type": "markdown",
   "id": "0f1b0b07",
   "metadata": {},
   "source": [
    "Se definen los parametros y funciones a utilizar:\n",
    "- $m$: Masa del disco\n",
    "- $\\omega$: Frecuencia de oscilación de $O_1$\n",
    "- $h$: Amplitud de la osiclación de $O_1$\n",
    "- $l$: Longitud natural del resorte\n",
    "- $k$: Constante de elasticidad del resorte\n",
    "- $J_3$: Momento de inercia del disco respecto al eje $\\zeta$\n",
    "- $a$: Radio del disco\n",
    "- $b$: Longitud de la cuerda del péndulo en el caso de equilibrio relativo\n",
    "- $\\varphi_0$: Angulo de inclinación en el caso de equilibrio relativo\n",
    "- $\\xi (t)$, $\\varphi (t)$, $\\psi (t)$: Coordenadas generalizadas que representan pequeñas desviaciones del equilibrio\n",
    "\n"
   ]
  },
  {
   "cell_type": "code",
   "execution_count": 17,
   "id": "081c50ca-8333-40f8-9d8f-3766147151b8",
   "metadata": {},
   "outputs": [],
   "source": [
    "m,w,l,J_3,a,b,g,h,phi_0, k, t = smp.symbols(r'm \\omega l J_3 a b g h \\varphi_0 k t')"
   ]
  },
  {
   "cell_type": "code",
   "execution_count": 18,
   "id": "4fa9d6f1-994b-4284-942c-cd38d398508e",
   "metadata": {},
   "outputs": [],
   "source": [
    "chi , phi, psi = smp.symbols(r'\\xi \\varphi \\psi ', cls=smp.Function)"
   ]
  },
  {
   "cell_type": "code",
   "execution_count": 19,
   "id": "19401234-0548-48fb-92b0-127208111dfb",
   "metadata": {},
   "outputs": [],
   "source": [
    "#chi\n",
    "chi = chi(t)\n",
    "chi_d = smp.diff(chi, t)\n",
    "chi_dd = smp.diff(chi_d, t)\n",
    "\n",
    "#psi\n",
    "psi = psi(t)\n",
    "psi_d = smp.diff(psi, t)\n",
    "psi_dd = smp.diff(psi_d, t)\n",
    "\n",
    "#phi\n",
    "phi = phi(t)\n",
    "phi_d = smp.diff(phi, t)\n",
    "phi_dd = smp.diff(phi_d, t)"
   ]
  },
  {
   "cell_type": "markdown",
   "id": "c5a1e459",
   "metadata": {},
   "source": [
    "Se definen parametros auxiliares adicionales:"
   ]
  },
  {
   "cell_type": "code",
   "execution_count": 20,
   "id": "52a07d78-1c6b-49f1-9213-92d1791efa75",
   "metadata": {},
   "outputs": [],
   "source": [
    "l_1 = (a**2 - (J_3/m))/a\n",
    "K2 = (k**2)/m\n",
    "\n",
    "a11 = K2 - w**2 *(smp.sin(phi_0)**2 + 2*h*smp.cos(phi_0)*smp.sin(w*t))\n",
    "b12 = K2*(b-l) - w**2 *b*smp.cos(phi_0)**2\n",
    "b13 = - w**2 *a*smp.cos(phi_0)**2\n",
    "c11 = -(w**2 * smp.sin(phi_0) * smp.cos(phi_0))\n",
    "c12 = -( w**2 * b * (smp.cos(phi_0))**2)\n",
    "c13 = (K2*(b-l)) + (2*h*smp.sin(phi_0)*smp.sin(w*t) - a*(smp.cos(phi_0))**2)*w**2\n",
    "a12 = b*c11\n",
    "a13 = a*c11\n",
    "b11 = c11  \n",
    "f3 = chi_dd*(psi-phi)+(b*phi_d**2+chi*phi_d**2)*(phi-psi)-chi*phi_dd - 2*chi_d*phi_d + 2*w**2 *h*smp.sin(w*t)*smp.cos(phi_0)-c11*(b+a*(1-psi**2)-psi*phi*(b+chi))-g*smp.sin(phi_0) + w**2 *chi*(phi*(smp.cos(phi_0)**2)-psi*(smp.sin(phi_0)**2))\n",
    "\n",
    "A = -2*c11\n",
    "B = a*(w**2)*(smp.cos(phi_0)**2)\n",
    "D = (w**2)*smp.cos(2*phi_0)\n",
    "C1 = -b*(K2-w**2*smp.sin(phi_0)**2)+w**2*(2*h*smp.sin(phi_0)*smp.sin(w*t)+a*(smp.sin(w*t)**2+smp.sin(phi_0)**2))+g*smp.cos(phi_0)+K2*l\n",
    "C2 = 2*h*w**2*smp.sin(w*t)-(b+a)*c11-g*smp.sin(phi_0)\n",
    "H = a*b*(psi**2-phi*psi-1)+l_1*(b+chi)\n"
   ]
  },
  {
   "cell_type": "code",
   "execution_count": 21,
   "id": "58182071",
   "metadata": {},
   "outputs": [
    {
     "data": {
      "text/latex": [
       "$\\displaystyle a b \\left(\\psi^{2}{\\left(t \\right)} - \\psi{\\left(t \\right)} \\varphi{\\left(t \\right)} - 1\\right) + \\frac{\\left(b + \\xi{\\left(t \\right)}\\right) \\left(- \\frac{J_{3}}{m} + a^{2}\\right)}{a}$"
      ],
      "text/plain": [
       "a*b*(\\psi(t)**2 - \\psi(t)*\\varphi(t) - 1) + (b + \\xi(t))*(-J_3/m + a**2)/a"
      ]
     },
     "execution_count": 21,
     "metadata": {},
     "output_type": "execute_result"
    }
   ],
   "source": [
    "H"
   ]
  },
  {
   "cell_type": "markdown",
   "id": "7dce9530",
   "metadata": {},
   "source": [
    "Se obtienen las ecuaciones de movimiento asociadas a cada coordenada:"
   ]
  },
  {
   "cell_type": "code",
   "execution_count": 22,
   "id": "7b0ec7b8",
   "metadata": {},
   "outputs": [],
   "source": [
    "eq_chidd = smp.Eq(chi_dd, -(1/H)*(-a*psi*(-(b+chi)*(c11*chi+c12*phi+c13*psi-f3)+b*(b11*chi+b12*phi+b13*psi+g*smp.sin(phi_0)+w**2*(-chi*phi*smp.cos(phi_0)**2-2*h*smp.sin(w*t)*smp.cos(phi_0)+smp.cos(phi_0)*smp.sin(phi_0)*(-b+phi*psi*(b+chi)+a*(psi**2-1))+chi*phi*smp.sin(phi_0)**2)+2*chi_d*phi_d-phi_d**2*(b+chi)*(phi-psi)))+(a*b-l_1*(b+chi))*(C1-a11*chi-a12*phi-a13*psi+phi_d**2*(b+chi)+phi*(A*chi+B*psi+a*psi_d**2))))\n",
    "eq_phidd = smp.Eq(phi_dd, -f3/b - c11*chi - c12*phi - c13*psi + (l_1/(a*psi))*(C1-a11*chi-a12*phi-a13*psi + (b+chi)*phi_d**2 + (A*chi+B*psi+a*psi_d**2)*phi) + (1/(a*H*psi))*(l_1*(-a*psi*((b+chi)*(f3-c11*chi-c12*phi-c13*psi)+b*(b11*chi+b12*phi+b13*psi+g*smp.sin(phi_0)+w**2 *(-chi*phi*smp.cos(phi_0)**2 - 2*h*smp.sin(w*t)*smp.cos(phi_0)+((b+chi)*phi*psi+a*(psi**2 -1)-b)*smp.cos(phi_0)*smp.sin(phi_0) + chi*phi*smp.sin(phi_0)**2) + 2*chi_d*phi_d - (b+chi)*(phi-psi)*phi_d**2)) + (a*b - (b+chi)*l_1)*(C1-a11*chi-a12*phi-a13*psi + (b+chi)*phi_d**2 + (A*chi+B*psi+a*psi_d**2)*phi))))\n",
    "eq_psidd = smp.Eq(psi_dd, -(1/H)*(b*(phi-psi)*(a11*chi+a12*phi+a13*psi-(A*chi+B*psi)*phi) - b*(b11*chi+b12*phi+b13*psi) + (b+chi)*(c11*chi+c12*phi+c13*psi) - b*C1*(phi-psi) + b*w**2 *smp.cos(phi_0)*(chi*phi*smp.cos(phi_0)+2*h*smp.sin(w*t)) - (b+chi)*f3 - b*g*smp.sin(phi_0) + b*w**2 *(a+b-psi*((b+chi)*phi+a*psi))*smp.cos(phi_0)*smp.sin(phi_0) - b*(2*chi_d*phi_d + phi*(w**2 *chi*smp.sin(phi_0)**2 + a*(phi-psi)*psi_d**2))))\n",
    "# Corrigiendo missspellings en las ecuaciones"
   ]
  },
  {
   "cell_type": "code",
   "execution_count": 23,
   "id": "6e9042a7",
   "metadata": {},
   "outputs": [
    {
     "data": {
      "text/latex": [
       "$\\displaystyle \\frac{d^{2}}{d t^{2}} \\psi{\\left(t \\right)} = - \\frac{\\omega^{2} b \\left(2 h \\sin{\\left(\\omega t \\right)} + \\varphi{\\left(t \\right)} \\xi{\\left(t \\right)} \\cos{\\left(\\varphi_{0} \\right)}\\right) \\cos{\\left(\\varphi_{0} \\right)} + \\omega^{2} b \\left(a + b - \\left(a \\psi{\\left(t \\right)} + \\left(b + \\xi{\\left(t \\right)}\\right) \\varphi{\\left(t \\right)}\\right) \\psi{\\left(t \\right)}\\right) \\sin{\\left(\\varphi_{0} \\right)} \\cos{\\left(\\varphi_{0} \\right)} - b g \\sin{\\left(\\varphi_{0} \\right)} - b \\left(\\left(\\omega^{2} \\xi{\\left(t \\right)} \\sin^{2}{\\left(\\varphi_{0} \\right)} + a \\left(- \\psi{\\left(t \\right)} + \\varphi{\\left(t \\right)}\\right) \\left(\\frac{d}{d t} \\psi{\\left(t \\right)}\\right)^{2}\\right) \\varphi{\\left(t \\right)} + 2 \\frac{d}{d t} \\varphi{\\left(t \\right)} \\frac{d}{d t} \\xi{\\left(t \\right)}\\right) - b \\left(- \\psi{\\left(t \\right)} + \\varphi{\\left(t \\right)}\\right) \\left(\\omega^{2} \\left(a \\left(\\sin^{2}{\\left(\\varphi_{0} \\right)} + \\sin^{2}{\\left(\\omega t \\right)}\\right) + 2 h \\sin{\\left(\\varphi_{0} \\right)} \\sin{\\left(\\omega t \\right)}\\right) - b \\left(- \\omega^{2} \\sin^{2}{\\left(\\varphi_{0} \\right)} + \\frac{k^{2}}{m}\\right) + g \\cos{\\left(\\varphi_{0} \\right)} + \\frac{k^{2} l}{m}\\right) + b \\left(- \\psi{\\left(t \\right)} + \\varphi{\\left(t \\right)}\\right) \\left(- \\omega^{2} a \\psi{\\left(t \\right)} \\sin{\\left(\\varphi_{0} \\right)} \\cos{\\left(\\varphi_{0} \\right)} - \\omega^{2} b \\varphi{\\left(t \\right)} \\sin{\\left(\\varphi_{0} \\right)} \\cos{\\left(\\varphi_{0} \\right)} + \\left(- \\omega^{2} \\cdot \\left(2 h \\sin{\\left(\\omega t \\right)} \\cos{\\left(\\varphi_{0} \\right)} + \\sin^{2}{\\left(\\varphi_{0} \\right)}\\right) + \\frac{k^{2}}{m}\\right) \\xi{\\left(t \\right)} - \\left(\\omega^{2} a \\psi{\\left(t \\right)} \\cos^{2}{\\left(\\varphi_{0} \\right)} + 2 \\omega^{2} \\xi{\\left(t \\right)} \\sin{\\left(\\varphi_{0} \\right)} \\cos{\\left(\\varphi_{0} \\right)}\\right) \\varphi{\\left(t \\right)}\\right) - b \\left(- \\omega^{2} a \\psi{\\left(t \\right)} \\cos^{2}{\\left(\\varphi_{0} \\right)} - \\omega^{2} \\xi{\\left(t \\right)} \\sin{\\left(\\varphi_{0} \\right)} \\cos{\\left(\\varphi_{0} \\right)} + \\left(- \\omega^{2} b \\cos^{2}{\\left(\\varphi_{0} \\right)} + \\frac{k^{2} \\left(b - l\\right)}{m}\\right) \\varphi{\\left(t \\right)}\\right) + \\left(b + \\xi{\\left(t \\right)}\\right) \\left(- \\omega^{2} b \\varphi{\\left(t \\right)} \\cos^{2}{\\left(\\varphi_{0} \\right)} - \\omega^{2} \\xi{\\left(t \\right)} \\sin{\\left(\\varphi_{0} \\right)} \\cos{\\left(\\varphi_{0} \\right)} + \\left(\\omega^{2} \\left(- a \\cos^{2}{\\left(\\varphi_{0} \\right)} + 2 h \\sin{\\left(\\varphi_{0} \\right)} \\sin{\\left(\\omega t \\right)}\\right) + \\frac{k^{2} \\left(b - l\\right)}{m}\\right) \\psi{\\left(t \\right)}\\right) - \\left(b + \\xi{\\left(t \\right)}\\right) \\left(2 \\omega^{2} h \\sin{\\left(\\omega t \\right)} \\cos{\\left(\\varphi_{0} \\right)} + \\omega^{2} \\left(- \\psi{\\left(t \\right)} \\sin^{2}{\\left(\\varphi_{0} \\right)} + \\varphi{\\left(t \\right)} \\cos^{2}{\\left(\\varphi_{0} \\right)}\\right) \\xi{\\left(t \\right)} + \\omega^{2} \\left(a \\left(1 - \\psi^{2}{\\left(t \\right)}\\right) + b - \\left(b + \\xi{\\left(t \\right)}\\right) \\psi{\\left(t \\right)} \\varphi{\\left(t \\right)}\\right) \\sin{\\left(\\varphi_{0} \\right)} \\cos{\\left(\\varphi_{0} \\right)} - g \\sin{\\left(\\varphi_{0} \\right)} + \\left(b \\left(\\frac{d}{d t} \\varphi{\\left(t \\right)}\\right)^{2} + \\xi{\\left(t \\right)} \\left(\\frac{d}{d t} \\varphi{\\left(t \\right)}\\right)^{2}\\right) \\left(- \\psi{\\left(t \\right)} + \\varphi{\\left(t \\right)}\\right) + \\left(\\psi{\\left(t \\right)} - \\varphi{\\left(t \\right)}\\right) \\frac{d^{2}}{d t^{2}} \\xi{\\left(t \\right)} - \\xi{\\left(t \\right)} \\frac{d^{2}}{d t^{2}} \\varphi{\\left(t \\right)} - 2 \\frac{d}{d t} \\varphi{\\left(t \\right)} \\frac{d}{d t} \\xi{\\left(t \\right)}\\right)}{a b \\left(\\psi^{2}{\\left(t \\right)} - \\psi{\\left(t \\right)} \\varphi{\\left(t \\right)} - 1\\right) + \\frac{\\left(b + \\xi{\\left(t \\right)}\\right) \\left(- \\frac{J_{3}}{m} + a^{2}\\right)}{a}}$"
      ],
      "text/plain": [
       "Eq(Derivative(\\psi(t), (t, 2)), -(\\omega**2*b*(2*h*sin(\\omega*t) + \\varphi(t)*\\xi(t)*cos(\\varphi_0))*cos(\\varphi_0) + \\omega**2*b*(a + b - (a*\\psi(t) + (b + \\xi(t))*\\varphi(t))*\\psi(t))*sin(\\varphi_0)*cos(\\varphi_0) - b*g*sin(\\varphi_0) - b*((\\omega**2*\\xi(t)*sin(\\varphi_0)**2 + a*(-\\psi(t) + \\varphi(t))*Derivative(\\psi(t), t)**2)*\\varphi(t) + 2*Derivative(\\varphi(t), t)*Derivative(\\xi(t), t)) - b*(-\\psi(t) + \\varphi(t))*(\\omega**2*(a*(sin(\\varphi_0)**2 + sin(\\omega*t)**2) + 2*h*sin(\\varphi_0)*sin(\\omega*t)) - b*(-\\omega**2*sin(\\varphi_0)**2 + k**2/m) + g*cos(\\varphi_0) + k**2*l/m) + b*(-\\psi(t) + \\varphi(t))*(-\\omega**2*a*\\psi(t)*sin(\\varphi_0)*cos(\\varphi_0) - \\omega**2*b*\\varphi(t)*sin(\\varphi_0)*cos(\\varphi_0) + (-\\omega**2*(2*h*sin(\\omega*t)*cos(\\varphi_0) + sin(\\varphi_0)**2) + k**2/m)*\\xi(t) - (\\omega**2*a*\\psi(t)*cos(\\varphi_0)**2 + 2*\\omega**2*\\xi(t)*sin(\\varphi_0)*cos(\\varphi_0))*\\varphi(t)) - b*(-\\omega**2*a*\\psi(t)*cos(\\varphi_0)**2 - \\omega**2*\\xi(t)*sin(\\varphi_0)*cos(\\varphi_0) + (-\\omega**2*b*cos(\\varphi_0)**2 + k**2*(b - l)/m)*\\varphi(t)) + (b + \\xi(t))*(-\\omega**2*b*\\varphi(t)*cos(\\varphi_0)**2 - \\omega**2*\\xi(t)*sin(\\varphi_0)*cos(\\varphi_0) + (\\omega**2*(-a*cos(\\varphi_0)**2 + 2*h*sin(\\varphi_0)*sin(\\omega*t)) + k**2*(b - l)/m)*\\psi(t)) - (b + \\xi(t))*(2*\\omega**2*h*sin(\\omega*t)*cos(\\varphi_0) + \\omega**2*(-\\psi(t)*sin(\\varphi_0)**2 + \\varphi(t)*cos(\\varphi_0)**2)*\\xi(t) + \\omega**2*(a*(1 - \\psi(t)**2) + b - (b + \\xi(t))*\\psi(t)*\\varphi(t))*sin(\\varphi_0)*cos(\\varphi_0) - g*sin(\\varphi_0) + (b*Derivative(\\varphi(t), t)**2 + \\xi(t)*Derivative(\\varphi(t), t)**2)*(-\\psi(t) + \\varphi(t)) + (\\psi(t) - \\varphi(t))*Derivative(\\xi(t), (t, 2)) - \\xi(t)*Derivative(\\varphi(t), (t, 2)) - 2*Derivative(\\varphi(t), t)*Derivative(\\xi(t), t)))/(a*b*(\\psi(t)**2 - \\psi(t)*\\varphi(t) - 1) + (b + \\xi(t))*(-J_3/m + a**2)/a))"
      ]
     },
     "execution_count": 23,
     "metadata": {},
     "output_type": "execute_result"
    }
   ],
   "source": [
    "eq_psidd"
   ]
  },
  {
   "cell_type": "markdown",
   "id": "121e11a8",
   "metadata": {},
   "source": [
    "Se procede a despejar las segundas derivadas individualmente:"
   ]
  },
  {
   "cell_type": "code",
   "execution_count": 24,
   "id": "ec64a332",
   "metadata": {},
   "outputs": [],
   "source": [
    "sols = smp.solve([eq_chidd, eq_phidd, eq_psidd], (chi_dd, phi_dd, psi_dd), simplify = True, rational= False)"
   ]
  },
  {
   "cell_type": "code",
   "execution_count": 30,
   "id": "5f0d94f8",
   "metadata": {},
   "outputs": [
    {
     "data": {
      "text/latex": [
       "$\\displaystyle \\frac{\\frac{J_{3} \\omega^{2} a b^{2} m \\psi{\\left(t \\right)} \\varphi{\\left(t \\right)} \\xi{\\left(t \\right)} \\cos{\\left(2 \\varphi_{0} \\right)}}{2} + \\frac{J_{3} \\omega^{2} a b^{2} m \\psi{\\left(t \\right)} \\varphi{\\left(t \\right)} \\xi{\\left(t \\right)}}{2} - \\frac{J_{3} \\omega^{2} a b^{2} m \\psi{\\left(t \\right)} \\varphi{\\left(t \\right)} \\cos{\\left(2 \\varphi_{0} \\right)}}{2} - \\frac{J_{3} \\omega^{2} a b^{2} m \\psi{\\left(t \\right)} \\varphi{\\left(t \\right)}}{2} + \\frac{J_{3} \\omega^{2} a b^{2} m \\psi{\\left(t \\right)} \\xi{\\left(t \\right)} \\sin{\\left(2 \\varphi_{0} \\right)}}{2} - \\frac{J_{3} \\omega^{2} a b^{2} m \\psi{\\left(t \\right)} \\sin{\\left(2 \\varphi_{0} \\right)}}{2} - \\frac{J_{3} \\omega^{2} a b^{2} m \\xi{\\left(t \\right)} \\cos{\\left(2 \\varphi_{0} \\right)}}{2} - \\frac{J_{3} \\omega^{2} a b^{2} m \\xi{\\left(t \\right)} \\cos{\\left(2 \\omega t \\right)}}{2} + J_{3} \\omega^{2} a b^{2} m \\xi{\\left(t \\right)} + \\frac{J_{3} \\omega^{2} a b^{2} m \\cos{\\left(2 \\varphi_{0} \\right)}}{2} + \\frac{J_{3} \\omega^{2} a b^{2} m \\cos{\\left(2 \\omega t \\right)}}{2} - J_{3} \\omega^{2} a b^{2} m + \\frac{J_{3} \\omega^{2} a b m \\psi{\\left(t \\right)} \\varphi{\\left(t \\right)} \\xi^{2}{\\left(t \\right)} \\cos{\\left(2 \\varphi_{0} \\right)}}{2} + \\frac{J_{3} \\omega^{2} a b m \\psi{\\left(t \\right)} \\varphi{\\left(t \\right)} \\xi^{2}{\\left(t \\right)}}{2} + \\frac{J_{3} \\omega^{2} a b m \\psi{\\left(t \\right)} \\xi^{2}{\\left(t \\right)} \\sin{\\left(2 \\varphi_{0} \\right)}}{2} - \\frac{J_{3} \\omega^{2} a b m \\xi^{2}{\\left(t \\right)} \\cos{\\left(2 \\varphi_{0} \\right)}}{2} - \\frac{J_{3} \\omega^{2} a b m \\xi^{2}{\\left(t \\right)} \\cos{\\left(2 \\omega t \\right)}}{2} + J_{3} \\omega^{2} a b m \\xi^{2}{\\left(t \\right)} + \\frac{J_{3} \\omega^{2} a m \\psi{\\left(t \\right)} \\varphi{\\left(t \\right)} \\xi^{2}{\\left(t \\right)} \\cos{\\left(2 \\varphi_{0} \\right)}}{2} + \\frac{J_{3} \\omega^{2} a m \\psi{\\left(t \\right)} \\varphi{\\left(t \\right)} \\xi^{2}{\\left(t \\right)}}{2} + \\frac{J_{3} \\omega^{2} a m \\psi{\\left(t \\right)} \\xi^{2}{\\left(t \\right)} \\sin{\\left(2 \\varphi_{0} \\right)}}{2} - \\frac{J_{3} \\omega^{2} a m \\xi^{2}{\\left(t \\right)} \\cos{\\left(2 \\varphi_{0} \\right)}}{2} - \\frac{J_{3} \\omega^{2} a m \\xi^{2}{\\left(t \\right)} \\cos{\\left(2 \\omega t \\right)}}{2} + J_{3} \\omega^{2} a m \\xi^{2}{\\left(t \\right)} + \\frac{J_{3} \\omega^{2} b^{3} m \\varphi{\\left(t \\right)} \\xi{\\left(t \\right)} \\sin{\\left(2 \\varphi_{0} \\right)}}{2} - \\frac{J_{3} \\omega^{2} b^{3} m \\varphi{\\left(t \\right)} \\sin{\\left(2 \\varphi_{0} \\right)}}{2} - \\frac{J_{3} \\omega^{2} b^{3} m \\xi{\\left(t \\right)} \\cos{\\left(2 \\varphi_{0} \\right)}}{2} + \\frac{J_{3} \\omega^{2} b^{3} m \\xi{\\left(t \\right)}}{2} + \\frac{J_{3} \\omega^{2} b^{3} m \\cos{\\left(2 \\varphi_{0} \\right)}}{2} - \\frac{J_{3} \\omega^{2} b^{3} m}{2} + J_{3} \\omega^{2} b^{2} h m \\xi^{2}{\\left(t \\right)} \\sin{\\left(\\omega t - \\varphi_{0} \\right)} + J_{3} \\omega^{2} b^{2} h m \\xi^{2}{\\left(t \\right)} \\sin{\\left(\\omega t + \\varphi_{0} \\right)} + \\sqrt{2} J_{3} \\omega^{2} b^{2} h m \\xi{\\left(t \\right)} \\sin{\\left(- \\omega t + \\varphi_{0} + \\frac{\\pi}{4} \\right)} - \\sqrt{2} J_{3} \\omega^{2} b^{2} h m \\xi{\\left(t \\right)} \\sin{\\left(\\omega t + \\varphi_{0} + \\frac{\\pi}{4} \\right)} - J_{3} \\omega^{2} b^{2} h m \\cos{\\left(\\omega t - \\varphi_{0} \\right)} + J_{3} \\omega^{2} b^{2} h m \\cos{\\left(\\omega t + \\varphi_{0} \\right)} + \\frac{3 J_{3} \\omega^{2} b^{2} m \\varphi{\\left(t \\right)} \\xi^{2}{\\left(t \\right)} \\sin{\\left(2 \\varphi_{0} \\right)}}{2} - J_{3} \\omega^{2} b^{2} m \\varphi{\\left(t \\right)} \\xi{\\left(t \\right)} \\sin{\\left(2 \\varphi_{0} \\right)} - J_{3} \\omega^{2} b^{2} m \\xi^{2}{\\left(t \\right)} \\cos{\\left(2 \\varphi_{0} \\right)} + J_{3} \\omega^{2} b^{2} m \\xi^{2}{\\left(t \\right)} + \\frac{J_{3} \\omega^{2} b^{2} m \\xi{\\left(t \\right)} \\cos{\\left(2 \\varphi_{0} \\right)}}{2} - \\frac{J_{3} \\omega^{2} b^{2} m \\xi{\\left(t \\right)}}{2} + J_{3} \\omega^{2} b h m \\xi^{3}{\\left(t \\right)} \\sin{\\left(\\omega t - \\varphi_{0} \\right)} + J_{3} \\omega^{2} b h m \\xi^{3}{\\left(t \\right)} \\sin{\\left(\\omega t + \\varphi_{0} \\right)} + J_{3} \\omega^{2} b h m \\xi^{2}{\\left(t \\right)} \\cos{\\left(\\omega t - \\varphi_{0} \\right)} - J_{3} \\omega^{2} b h m \\xi^{2}{\\left(t \\right)} \\cos{\\left(\\omega t + \\varphi_{0} \\right)} + J_{3} \\omega^{2} b m \\varphi{\\left(t \\right)} \\xi^{3}{\\left(t \\right)} \\sin{\\left(2 \\varphi_{0} \\right)} + \\frac{J_{3} \\omega^{2} b m \\varphi{\\left(t \\right)} \\xi^{2}{\\left(t \\right)} \\sin{\\left(2 \\varphi_{0} \\right)}}{2} - \\frac{J_{3} \\omega^{2} b m \\xi^{3}{\\left(t \\right)} \\cos{\\left(2 \\varphi_{0} \\right)}}{2} + \\frac{J_{3} \\omega^{2} b m \\xi^{3}{\\left(t \\right)}}{2} - \\frac{J_{3} \\omega^{2} b m \\xi^{2}{\\left(t \\right)} \\cos{\\left(2 \\varphi_{0} \\right)}}{2} + \\frac{J_{3} \\omega^{2} b m \\xi^{2}{\\left(t \\right)}}{2} + J_{3} \\omega^{2} h m \\xi^{3}{\\left(t \\right)} \\sin{\\left(\\omega t - \\varphi_{0} \\right)} + J_{3} \\omega^{2} h m \\xi^{3}{\\left(t \\right)} \\sin{\\left(\\omega t + \\varphi_{0} \\right)} + J_{3} \\omega^{2} h m \\xi^{2}{\\left(t \\right)} \\cos{\\left(\\omega t - \\varphi_{0} \\right)} - J_{3} \\omega^{2} h m \\xi^{2}{\\left(t \\right)} \\cos{\\left(\\omega t + \\varphi_{0} \\right)} + J_{3} \\omega^{2} m \\varphi{\\left(t \\right)} \\xi^{3}{\\left(t \\right)} \\sin{\\left(2 \\varphi_{0} \\right)} - \\frac{J_{3} \\omega^{2} m \\xi^{3}{\\left(t \\right)} \\cos{\\left(2 \\varphi_{0} \\right)}}{2} + \\frac{J_{3} \\omega^{2} m \\xi^{3}{\\left(t \\right)}}{2} + J_{3} a b^{2} m \\varphi{\\left(t \\right)} \\xi{\\left(t \\right)} \\left(\\frac{d}{d t} \\psi{\\left(t \\right)}\\right)^{2} - J_{3} a b^{2} m \\varphi{\\left(t \\right)} \\left(\\frac{d}{d t} \\psi{\\left(t \\right)}\\right)^{2} + J_{3} a b m \\varphi{\\left(t \\right)} \\xi^{2}{\\left(t \\right)} \\left(\\frac{d}{d t} \\psi{\\left(t \\right)}\\right)^{2} + J_{3} a m \\varphi{\\left(t \\right)} \\xi^{2}{\\left(t \\right)} \\left(\\frac{d}{d t} \\psi{\\left(t \\right)}\\right)^{2} - J_{3} b^{3} k^{2} \\xi{\\left(t \\right)} + J_{3} b^{3} k^{2} + J_{3} b^{3} m \\xi{\\left(t \\right)} \\left(\\frac{d}{d t} \\varphi{\\left(t \\right)}\\right)^{2} - J_{3} b^{3} m \\left(\\frac{d}{d t} \\varphi{\\left(t \\right)}\\right)^{2} + J_{3} b^{2} g m \\xi{\\left(t \\right)} \\cos{\\left(\\varphi_{0} \\right)} - J_{3} b^{2} g m \\cos{\\left(\\varphi_{0} \\right)} + J_{3} b^{2} k^{2} l \\xi{\\left(t \\right)} - J_{3} b^{2} k^{2} l - 2 J_{3} b^{2} k^{2} \\xi^{2}{\\left(t \\right)} + J_{3} b^{2} k^{2} \\xi{\\left(t \\right)} + 2 J_{3} b^{2} m \\xi^{2}{\\left(t \\right)} \\left(\\frac{d}{d t} \\varphi{\\left(t \\right)}\\right)^{2} - J_{3} b^{2} m \\xi{\\left(t \\right)} \\left(\\frac{d}{d t} \\varphi{\\left(t \\right)}\\right)^{2} + J_{3} b g m \\xi^{2}{\\left(t \\right)} \\cos{\\left(\\varphi_{0} \\right)} + J_{3} b k^{2} l \\xi^{2}{\\left(t \\right)} - J_{3} b k^{2} \\xi^{3}{\\left(t \\right)} - J_{3} b k^{2} \\xi^{2}{\\left(t \\right)} + J_{3} b m \\xi^{3}{\\left(t \\right)} \\left(\\frac{d}{d t} \\varphi{\\left(t \\right)}\\right)^{2} + J_{3} b m \\xi^{2}{\\left(t \\right)} \\left(\\frac{d}{d t} \\varphi{\\left(t \\right)}\\right)^{2} + J_{3} g m \\xi^{2}{\\left(t \\right)} \\cos{\\left(\\varphi_{0} \\right)} + J_{3} k^{2} l \\xi^{2}{\\left(t \\right)} - J_{3} k^{2} \\xi^{3}{\\left(t \\right)} + J_{3} m \\xi^{3}{\\left(t \\right)} \\left(\\frac{d}{d t} \\varphi{\\left(t \\right)}\\right)^{2} - \\frac{\\omega^{2} a^{3} b^{2} m^{2} \\psi^{2}{\\left(t \\right)} \\xi{\\left(t \\right)} \\cos{\\left(2 \\varphi_{0} \\right)}}{2} - \\frac{\\omega^{2} a^{3} b^{2} m^{2} \\psi^{2}{\\left(t \\right)} \\xi{\\left(t \\right)}}{2} - \\frac{\\omega^{2} a^{3} b^{2} m^{2} \\psi{\\left(t \\right)} \\varphi{\\left(t \\right)} \\xi{\\left(t \\right)} \\cos{\\left(2 \\varphi_{0} \\right)}}{2} - \\frac{\\omega^{2} a^{3} b^{2} m^{2} \\psi{\\left(t \\right)} \\varphi{\\left(t \\right)} \\xi{\\left(t \\right)}}{2} - \\frac{\\omega^{2} a^{3} b^{2} m^{2} \\psi{\\left(t \\right)} \\xi{\\left(t \\right)} \\sin{\\left(2 \\varphi_{0} \\right)}}{2} + \\frac{\\omega^{2} a^{3} b^{2} m^{2} \\xi{\\left(t \\right)} \\cos{\\left(2 \\varphi_{0} \\right)}}{2} + \\frac{\\omega^{2} a^{3} b^{2} m^{2} \\xi{\\left(t \\right)} \\cos{\\left(2 \\omega t \\right)}}{2} - \\omega^{2} a^{3} b^{2} m^{2} \\xi{\\left(t \\right)} - \\omega^{2} a^{3} b m^{2} \\psi^{3}{\\left(t \\right)} \\xi{\\left(t \\right)} \\sin{\\left(2 \\varphi_{0} \\right)} - \\frac{\\omega^{2} a^{3} b m^{2} \\psi^{2}{\\left(t \\right)} \\xi^{2}{\\left(t \\right)} \\cos{\\left(2 \\varphi_{0} \\right)}}{2} - \\frac{\\omega^{2} a^{3} b m^{2} \\psi^{2}{\\left(t \\right)} \\xi^{2}{\\left(t \\right)}}{2} + \\frac{\\omega^{2} a^{3} b m^{2} \\psi^{2}{\\left(t \\right)} \\xi{\\left(t \\right)} \\cos{\\left(2 \\varphi_{0} \\right)}}{2} + \\frac{\\omega^{2} a^{3} b m^{2} \\psi^{2}{\\left(t \\right)} \\xi{\\left(t \\right)}}{2} - \\frac{\\omega^{2} a^{3} b m^{2} \\psi{\\left(t \\right)} \\varphi{\\left(t \\right)} \\xi^{2}{\\left(t \\right)} \\cos{\\left(2 \\varphi_{0} \\right)}}{2} - \\frac{\\omega^{2} a^{3} b m^{2} \\psi{\\left(t \\right)} \\varphi{\\left(t \\right)} \\xi^{2}{\\left(t \\right)}}{2} + \\frac{\\omega^{2} a^{3} b m^{2} \\psi{\\left(t \\right)} \\varphi{\\left(t \\right)} \\xi{\\left(t \\right)} \\cos{\\left(2 \\varphi_{0} \\right)}}{2} + \\frac{\\omega^{2} a^{3} b m^{2} \\psi{\\left(t \\right)} \\varphi{\\left(t \\right)} \\xi{\\left(t \\right)}}{2} - \\frac{\\omega^{2} a^{3} b m^{2} \\psi{\\left(t \\right)} \\xi^{2}{\\left(t \\right)} \\sin{\\left(2 \\varphi_{0} \\right)}}{2} + \\frac{3 \\omega^{2} a^{3} b m^{2} \\psi{\\left(t \\right)} \\xi{\\left(t \\right)} \\sin{\\left(2 \\varphi_{0} \\right)}}{2} + \\frac{\\omega^{2} a^{3} b m^{2} \\xi^{2}{\\left(t \\right)} \\cos{\\left(2 \\varphi_{0} \\right)}}{2} + \\frac{\\omega^{2} a^{3} b m^{2} \\xi^{2}{\\left(t \\right)} \\cos{\\left(2 \\omega t \\right)}}{2} - \\omega^{2} a^{3} b m^{2} \\xi^{2}{\\left(t \\right)} - \\frac{\\omega^{2} a^{3} b m^{2} \\xi{\\left(t \\right)} \\cos{\\left(2 \\varphi_{0} \\right)}}{2} - \\frac{\\omega^{2} a^{3} b m^{2} \\xi{\\left(t \\right)} \\cos{\\left(2 \\omega t \\right)}}{2} + \\omega^{2} a^{3} b m^{2} \\xi{\\left(t \\right)} - \\frac{\\omega^{2} a^{3} m^{2} \\psi^{2}{\\left(t \\right)} \\xi^{2}{\\left(t \\right)} \\cos{\\left(2 \\varphi_{0} \\right)}}{2} - \\frac{\\omega^{2} a^{3} m^{2} \\psi^{2}{\\left(t \\right)} \\xi^{2}{\\left(t \\right)}}{2} - \\frac{\\omega^{2} a^{3} m^{2} \\psi{\\left(t \\right)} \\varphi{\\left(t \\right)} \\xi^{2}{\\left(t \\right)} \\cos{\\left(2 \\varphi_{0} \\right)}}{2} - \\frac{\\omega^{2} a^{3} m^{2} \\psi{\\left(t \\right)} \\varphi{\\left(t \\right)} \\xi^{2}{\\left(t \\right)}}{2} - \\frac{\\omega^{2} a^{3} m^{2} \\psi{\\left(t \\right)} \\xi^{2}{\\left(t \\right)} \\sin{\\left(2 \\varphi_{0} \\right)}}{2} + \\frac{\\omega^{2} a^{3} m^{2} \\xi^{2}{\\left(t \\right)} \\cos{\\left(2 \\varphi_{0} \\right)}}{2} + \\frac{\\omega^{2} a^{3} m^{2} \\xi^{2}{\\left(t \\right)} \\cos{\\left(2 \\omega t \\right)}}{2} - \\omega^{2} a^{3} m^{2} \\xi^{2}{\\left(t \\right)} - \\frac{\\omega^{2} a^{2} b^{3} m^{2} \\psi{\\left(t \\right)} \\varphi{\\left(t \\right)} \\xi{\\left(t \\right)} \\cos{\\left(2 \\varphi_{0} \\right)}}{2} - \\frac{\\omega^{2} a^{2} b^{3} m^{2} \\psi{\\left(t \\right)} \\varphi{\\left(t \\right)} \\xi{\\left(t \\right)}}{2} - \\frac{\\omega^{2} a^{2} b^{3} m^{2} \\varphi{\\left(t \\right)} \\xi{\\left(t \\right)} \\sin{\\left(2 \\varphi_{0} \\right)}}{2} + \\frac{\\omega^{2} a^{2} b^{3} m^{2} \\xi{\\left(t \\right)} \\cos{\\left(2 \\varphi_{0} \\right)}}{2} - \\frac{\\omega^{2} a^{2} b^{3} m^{2} \\xi{\\left(t \\right)}}{2} + \\omega^{2} a^{2} b^{2} h m^{2} \\psi^{2}{\\left(t \\right)} \\xi{\\left(t \\right)} \\cos{\\left(\\omega t - \\varphi_{0} \\right)} - \\omega^{2} a^{2} b^{2} h m^{2} \\psi^{2}{\\left(t \\right)} \\xi{\\left(t \\right)} \\cos{\\left(\\omega t + \\varphi_{0} \\right)} - \\omega^{2} a^{2} b^{2} h m^{2} \\psi^{2}{\\left(t \\right)} \\cos{\\left(\\omega t - \\varphi_{0} \\right)} + \\omega^{2} a^{2} b^{2} h m^{2} \\psi^{2}{\\left(t \\right)} \\cos{\\left(\\omega t + \\varphi_{0} \\right)} - \\omega^{2} a^{2} b^{2} h m^{2} \\xi^{2}{\\left(t \\right)} \\sin{\\left(\\omega t - \\varphi_{0} \\right)} - \\omega^{2} a^{2} b^{2} h m^{2} \\xi^{2}{\\left(t \\right)} \\sin{\\left(\\omega t + \\varphi_{0} \\right)} - \\omega^{2} a^{2} b^{2} h m^{2} \\xi{\\left(t \\right)} \\cos{\\left(\\omega t - \\varphi_{0} \\right)} + \\omega^{2} a^{2} b^{2} h m^{2} \\xi{\\left(t \\right)} \\cos{\\left(\\omega t + \\varphi_{0} \\right)} - \\omega^{2} a^{2} b^{2} m^{2} \\psi^{2}{\\left(t \\right)} \\varphi{\\left(t \\right)} \\xi{\\left(t \\right)} \\sin{\\left(2 \\varphi_{0} \\right)} + \\frac{\\omega^{2} a^{2} b^{2} m^{2} \\psi^{2}{\\left(t \\right)} \\xi{\\left(t \\right)} \\cos{\\left(2 \\varphi_{0} \\right)}}{2} - \\frac{\\omega^{2} a^{2} b^{2} m^{2} \\psi^{2}{\\left(t \\right)} \\xi{\\left(t \\right)}}{2} - \\frac{\\omega^{2} a^{2} b^{2} m^{2} \\psi{\\left(t \\right)} \\varphi{\\left(t \\right)} \\xi^{2}{\\left(t \\right)} \\cos{\\left(2 \\varphi_{0} \\right)}}{2} - \\frac{\\omega^{2} a^{2} b^{2} m^{2} \\psi{\\left(t \\right)} \\varphi{\\left(t \\right)} \\xi^{2}{\\left(t \\right)}}{2} + \\omega^{2} a^{2} b^{2} m^{2} \\psi{\\left(t \\right)} \\varphi{\\left(t \\right)} \\xi{\\left(t \\right)} - \\frac{\\omega^{2} a^{2} b^{2} m^{2} \\psi{\\left(t \\right)} \\xi^{2}{\\left(t \\right)} \\sin{\\left(2 \\varphi_{0} \\right)}}{2} + \\omega^{2} a^{2} b^{2} m^{2} \\psi{\\left(t \\right)} \\xi{\\left(t \\right)} \\sin{\\left(2 \\varphi_{0} \\right)} - \\frac{3 \\omega^{2} a^{2} b^{2} m^{2} \\varphi{\\left(t \\right)} \\xi^{2}{\\left(t \\right)} \\sin{\\left(2 \\varphi_{0} \\right)}}{2} + \\frac{\\omega^{2} a^{2} b^{2} m^{2} \\varphi{\\left(t \\right)} \\xi{\\left(t \\right)} \\sin{\\left(2 \\varphi_{0} \\right)}}{2} + \\omega^{2} a^{2} b^{2} m^{2} \\xi^{2}{\\left(t \\right)} \\cos{\\left(2 \\varphi_{0} \\right)} - \\omega^{2} a^{2} b^{2} m^{2} \\xi^{2}{\\left(t \\right)} - \\frac{\\omega^{2} a^{2} b^{2} m^{2} \\xi{\\left(t \\right)} \\cos{\\left(2 \\varphi_{0} \\right)}}{2} + \\frac{\\omega^{2} a^{2} b^{2} m^{2} \\xi{\\left(t \\right)}}{2} + \\omega^{2} a^{2} b h m^{2} \\psi^{2}{\\left(t \\right)} \\xi^{2}{\\left(t \\right)} \\cos{\\left(\\omega t - \\varphi_{0} \\right)} - \\omega^{2} a^{2} b h m^{2} \\psi^{2}{\\left(t \\right)} \\xi^{2}{\\left(t \\right)} \\cos{\\left(\\omega t + \\varphi_{0} \\right)} + 2 \\omega^{2} a^{2} b h m^{2} \\psi{\\left(t \\right)} \\xi{\\left(t \\right)} \\sin{\\left(\\omega t - \\varphi_{0} \\right)} + 2 \\omega^{2} a^{2} b h m^{2} \\psi{\\left(t \\right)} \\xi{\\left(t \\right)} \\sin{\\left(\\omega t + \\varphi_{0} \\right)} - \\omega^{2} a^{2} b h m^{2} \\xi^{3}{\\left(t \\right)} \\sin{\\left(\\omega t - \\varphi_{0} \\right)} - \\omega^{2} a^{2} b h m^{2} \\xi^{3}{\\left(t \\right)} \\sin{\\left(\\omega t + \\varphi_{0} \\right)} - \\sqrt{2} \\omega^{2} a^{2} b h m^{2} \\xi^{2}{\\left(t \\right)} \\sin{\\left(- \\omega t + \\varphi_{0} + \\frac{\\pi}{4} \\right)} + \\sqrt{2} \\omega^{2} a^{2} b h m^{2} \\xi^{2}{\\left(t \\right)} \\sin{\\left(\\omega t + \\varphi_{0} + \\frac{\\pi}{4} \\right)} + \\omega^{2} a^{2} b h m^{2} \\xi{\\left(t \\right)} \\cos{\\left(\\omega t - \\varphi_{0} \\right)} - \\omega^{2} a^{2} b h m^{2} \\xi{\\left(t \\right)} \\cos{\\left(\\omega t + \\varphi_{0} \\right)} - \\omega^{2} a^{2} b m^{2} \\psi^{2}{\\left(t \\right)} \\varphi{\\left(t \\right)} \\xi^{2}{\\left(t \\right)} \\sin{\\left(2 \\varphi_{0} \\right)} + \\frac{\\omega^{2} a^{2} b m^{2} \\psi^{2}{\\left(t \\right)} \\xi^{2}{\\left(t \\right)} \\cos{\\left(2 \\varphi_{0} \\right)}}{2} - \\frac{\\omega^{2} a^{2} b m^{2} \\psi^{2}{\\left(t \\right)} \\xi^{2}{\\left(t \\right)}}{2} + \\omega^{2} a^{2} b m^{2} \\psi{\\left(t \\right)} \\varphi{\\left(t \\right)} \\xi^{2}{\\left(t \\right)} \\cos{\\left(2 \\varphi_{0} \\right)} - \\frac{\\omega^{2} a^{2} b m^{2} \\psi{\\left(t \\right)} \\xi^{3}{\\left(t \\right)} \\sin{\\left(2 \\varphi_{0} \\right)}}{2} + \\frac{\\omega^{2} a^{2} b m^{2} \\psi{\\left(t \\right)} \\xi^{2}{\\left(t \\right)} \\sin{\\left(2 \\varphi_{0} \\right)}}{2} - \\omega^{2} a^{2} b m^{2} \\varphi{\\left(t \\right)} \\xi^{3}{\\left(t \\right)} \\sin{\\left(2 \\varphi_{0} \\right)} + \\frac{\\omega^{2} a^{2} b m^{2} \\varphi{\\left(t \\right)} \\xi^{2}{\\left(t \\right)} \\sin{\\left(2 \\varphi_{0} \\right)}}{2} + \\frac{\\omega^{2} a^{2} b m^{2} \\xi^{3}{\\left(t \\right)} \\cos{\\left(2 \\varphi_{0} \\right)}}{2} - \\frac{\\omega^{2} a^{2} b m^{2} \\xi^{3}{\\left(t \\right)}}{2} + \\omega^{2} a^{2} h m^{2} \\psi^{2}{\\left(t \\right)} \\xi^{2}{\\left(t \\right)} \\cos{\\left(\\omega t - \\varphi_{0} \\right)} - \\omega^{2} a^{2} h m^{2} \\psi^{2}{\\left(t \\right)} \\xi^{2}{\\left(t \\right)} \\cos{\\left(\\omega t + \\varphi_{0} \\right)} - \\omega^{2} a^{2} h m^{2} \\xi^{3}{\\left(t \\right)} \\sin{\\left(\\omega t - \\varphi_{0} \\right)} - \\omega^{2} a^{2} h m^{2} \\xi^{3}{\\left(t \\right)} \\sin{\\left(\\omega t + \\varphi_{0} \\right)} - \\omega^{2} a^{2} h m^{2} \\xi^{2}{\\left(t \\right)} \\cos{\\left(\\omega t - \\varphi_{0} \\right)} + \\omega^{2} a^{2} h m^{2} \\xi^{2}{\\left(t \\right)} \\cos{\\left(\\omega t + \\varphi_{0} \\right)} - \\frac{\\omega^{2} a^{2} m^{2} \\psi{\\left(t \\right)} \\xi^{3}{\\left(t \\right)} \\sin{\\left(2 \\varphi_{0} \\right)}}{2} - \\omega^{2} a^{2} m^{2} \\varphi{\\left(t \\right)} \\xi^{3}{\\left(t \\right)} \\sin{\\left(2 \\varphi_{0} \\right)} + \\frac{\\omega^{2} a^{2} m^{2} \\xi^{3}{\\left(t \\right)} \\cos{\\left(2 \\varphi_{0} \\right)}}{2} - \\frac{\\omega^{2} a^{2} m^{2} \\xi^{3}{\\left(t \\right)}}{2} - a^{3} b^{2} m^{2} \\varphi{\\left(t \\right)} \\xi{\\left(t \\right)} \\left(\\frac{d}{d t} \\psi{\\left(t \\right)}\\right)^{2} - a^{3} b m^{2} \\varphi{\\left(t \\right)} \\xi^{2}{\\left(t \\right)} \\left(\\frac{d}{d t} \\psi{\\left(t \\right)}\\right)^{2} + a^{3} b m^{2} \\varphi{\\left(t \\right)} \\xi{\\left(t \\right)} \\left(\\frac{d}{d t} \\psi{\\left(t \\right)}\\right)^{2} - a^{3} m^{2} \\varphi{\\left(t \\right)} \\xi^{2}{\\left(t \\right)} \\left(\\frac{d}{d t} \\psi{\\left(t \\right)}\\right)^{2} + a^{2} b^{3} k^{2} m \\psi^{2}{\\left(t \\right)} \\xi{\\left(t \\right)} - a^{2} b^{3} k^{2} m \\psi^{2}{\\left(t \\right)} + a^{2} b^{3} k^{2} m \\psi{\\left(t \\right)} \\varphi{\\left(t \\right)} + a^{2} b^{3} k^{2} m \\xi{\\left(t \\right)} - a^{2} b^{3} m^{2} \\xi{\\left(t \\right)} \\left(\\frac{d}{d t} \\varphi{\\left(t \\right)}\\right)^{2} - a^{2} b^{2} g m^{2} \\xi{\\left(t \\right)} \\cos{\\left(\\varphi_{0} \\right)} - a^{2} b^{2} k^{2} l m \\psi^{2}{\\left(t \\right)} \\xi{\\left(t \\right)} + a^{2} b^{2} k^{2} l m \\psi^{2}{\\left(t \\right)} - a^{2} b^{2} k^{2} l m \\psi{\\left(t \\right)} \\varphi{\\left(t \\right)} - a^{2} b^{2} k^{2} l m \\xi{\\left(t \\right)} + a^{2} b^{2} k^{2} m \\psi^{2}{\\left(t \\right)} \\xi^{2}{\\left(t \\right)} - a^{2} b^{2} k^{2} m \\psi{\\left(t \\right)} \\varphi{\\left(t \\right)} \\xi{\\left(t \\right)} + 2 a^{2} b^{2} k^{2} m \\xi^{2}{\\left(t \\right)} - a^{2} b^{2} k^{2} m \\xi{\\left(t \\right)} - 2 a^{2} b^{2} m^{2} \\psi^{2}{\\left(t \\right)} \\xi{\\left(t \\right)} \\left(\\frac{d}{d t} \\varphi{\\left(t \\right)}\\right)^{2} + 2 a^{2} b^{2} m^{2} \\psi{\\left(t \\right)} \\varphi{\\left(t \\right)} \\xi{\\left(t \\right)} \\left(\\frac{d}{d t} \\varphi{\\left(t \\right)}\\right)^{2} - 2 a^{2} b^{2} m^{2} \\xi^{2}{\\left(t \\right)} \\left(\\frac{d}{d t} \\varphi{\\left(t \\right)}\\right)^{2} + a^{2} b^{2} m^{2} \\xi{\\left(t \\right)} \\left(\\frac{d}{d t} \\varphi{\\left(t \\right)}\\right)^{2} - 2 a^{2} b g m^{2} \\psi{\\left(t \\right)} \\xi{\\left(t \\right)} \\sin{\\left(\\varphi_{0} \\right)} - a^{2} b g m^{2} \\xi^{2}{\\left(t \\right)} \\cos{\\left(\\varphi_{0} \\right)} + a^{2} b g m^{2} \\xi{\\left(t \\right)} \\cos{\\left(\\varphi_{0} \\right)} - a^{2} b k^{2} l m \\psi^{2}{\\left(t \\right)} \\xi^{2}{\\left(t \\right)} + a^{2} b k^{2} l m \\psi{\\left(t \\right)} \\varphi{\\left(t \\right)} \\xi{\\left(t \\right)} - a^{2} b k^{2} l m \\xi^{2}{\\left(t \\right)} + a^{2} b k^{2} l m \\xi{\\left(t \\right)} + a^{2} b k^{2} m \\psi^{2}{\\left(t \\right)} \\xi^{2}{\\left(t \\right)} + a^{2} b k^{2} m \\xi^{3}{\\left(t \\right)} - 2 a^{2} b m^{2} \\psi^{2}{\\left(t \\right)} \\xi^{2}{\\left(t \\right)} \\left(\\frac{d}{d t} \\varphi{\\left(t \\right)}\\right)^{2} + 2 a^{2} b m^{2} \\psi{\\left(t \\right)} \\varphi{\\left(t \\right)} \\xi^{2}{\\left(t \\right)} \\left(\\frac{d}{d t} \\varphi{\\left(t \\right)}\\right)^{2} - 4 a^{2} b m^{2} \\psi{\\left(t \\right)} \\xi{\\left(t \\right)} \\frac{d}{d t} \\varphi{\\left(t \\right)} \\frac{d}{d t} \\xi{\\left(t \\right)} - a^{2} b m^{2} \\xi^{3}{\\left(t \\right)} \\left(\\frac{d}{d t} \\varphi{\\left(t \\right)}\\right)^{2} - a^{2} g m^{2} \\xi^{2}{\\left(t \\right)} \\cos{\\left(\\varphi_{0} \\right)} - a^{2} k^{2} l m \\psi^{2}{\\left(t \\right)} \\xi^{2}{\\left(t \\right)} - a^{2} k^{2} l m \\xi^{2}{\\left(t \\right)} + a^{2} k^{2} m \\xi^{3}{\\left(t \\right)} - a^{2} m^{2} \\xi^{3}{\\left(t \\right)} \\left(\\frac{d}{d t} \\varphi{\\left(t \\right)}\\right)^{2}}{m \\left(J_{3} b^{2} \\xi{\\left(t \\right)} - J_{3} b^{2} + J_{3} b \\xi^{2}{\\left(t \\right)} + J_{3} \\xi^{2}{\\left(t \\right)} - a^{2} b^{2} m \\xi{\\left(t \\right)} - 2 a^{2} b m \\psi^{2}{\\left(t \\right)} \\xi{\\left(t \\right)} + 2 a^{2} b m \\psi{\\left(t \\right)} \\varphi{\\left(t \\right)} \\xi{\\left(t \\right)} - a^{2} b m \\xi^{2}{\\left(t \\right)} + a^{2} b m \\xi{\\left(t \\right)} - a^{2} m \\xi^{2}{\\left(t \\right)}\\right)}$"
      ],
      "text/plain": [
       "(J_3*\\omega**2*a*b**2*m*\\psi(t)*\\varphi(t)*\\xi(t)*cos(2*\\varphi_0)/2 + J_3*\\omega**2*a*b**2*m*\\psi(t)*\\varphi(t)*\\xi(t)/2 - J_3*\\omega**2*a*b**2*m*\\psi(t)*\\varphi(t)*cos(2*\\varphi_0)/2 - J_3*\\omega**2*a*b**2*m*\\psi(t)*\\varphi(t)/2 + J_3*\\omega**2*a*b**2*m*\\psi(t)*\\xi(t)*sin(2*\\varphi_0)/2 - J_3*\\omega**2*a*b**2*m*\\psi(t)*sin(2*\\varphi_0)/2 - J_3*\\omega**2*a*b**2*m*\\xi(t)*cos(2*\\varphi_0)/2 - J_3*\\omega**2*a*b**2*m*\\xi(t)*cos(2*\\omega*t)/2 + J_3*\\omega**2*a*b**2*m*\\xi(t) + J_3*\\omega**2*a*b**2*m*cos(2*\\varphi_0)/2 + J_3*\\omega**2*a*b**2*m*cos(2*\\omega*t)/2 - J_3*\\omega**2*a*b**2*m + J_3*\\omega**2*a*b*m*\\psi(t)*\\varphi(t)*\\xi(t)**2*cos(2*\\varphi_0)/2 + J_3*\\omega**2*a*b*m*\\psi(t)*\\varphi(t)*\\xi(t)**2/2 + J_3*\\omega**2*a*b*m*\\psi(t)*\\xi(t)**2*sin(2*\\varphi_0)/2 - J_3*\\omega**2*a*b*m*\\xi(t)**2*cos(2*\\varphi_0)/2 - J_3*\\omega**2*a*b*m*\\xi(t)**2*cos(2*\\omega*t)/2 + J_3*\\omega**2*a*b*m*\\xi(t)**2 + J_3*\\omega**2*a*m*\\psi(t)*\\varphi(t)*\\xi(t)**2*cos(2*\\varphi_0)/2 + J_3*\\omega**2*a*m*\\psi(t)*\\varphi(t)*\\xi(t)**2/2 + J_3*\\omega**2*a*m*\\psi(t)*\\xi(t)**2*sin(2*\\varphi_0)/2 - J_3*\\omega**2*a*m*\\xi(t)**2*cos(2*\\varphi_0)/2 - J_3*\\omega**2*a*m*\\xi(t)**2*cos(2*\\omega*t)/2 + J_3*\\omega**2*a*m*\\xi(t)**2 + J_3*\\omega**2*b**3*m*\\varphi(t)*\\xi(t)*sin(2*\\varphi_0)/2 - J_3*\\omega**2*b**3*m*\\varphi(t)*sin(2*\\varphi_0)/2 - J_3*\\omega**2*b**3*m*\\xi(t)*cos(2*\\varphi_0)/2 + J_3*\\omega**2*b**3*m*\\xi(t)/2 + J_3*\\omega**2*b**3*m*cos(2*\\varphi_0)/2 - J_3*\\omega**2*b**3*m/2 + J_3*\\omega**2*b**2*h*m*\\xi(t)**2*sin(\\omega*t - \\varphi_0) + J_3*\\omega**2*b**2*h*m*\\xi(t)**2*sin(\\omega*t + \\varphi_0) + sqrt(2)*J_3*\\omega**2*b**2*h*m*\\xi(t)*sin(-\\omega*t + \\varphi_0 + pi/4) - sqrt(2)*J_3*\\omega**2*b**2*h*m*\\xi(t)*sin(\\omega*t + \\varphi_0 + pi/4) - J_3*\\omega**2*b**2*h*m*cos(\\omega*t - \\varphi_0) + J_3*\\omega**2*b**2*h*m*cos(\\omega*t + \\varphi_0) + 3*J_3*\\omega**2*b**2*m*\\varphi(t)*\\xi(t)**2*sin(2*\\varphi_0)/2 - J_3*\\omega**2*b**2*m*\\varphi(t)*\\xi(t)*sin(2*\\varphi_0) - J_3*\\omega**2*b**2*m*\\xi(t)**2*cos(2*\\varphi_0) + J_3*\\omega**2*b**2*m*\\xi(t)**2 + J_3*\\omega**2*b**2*m*\\xi(t)*cos(2*\\varphi_0)/2 - J_3*\\omega**2*b**2*m*\\xi(t)/2 + J_3*\\omega**2*b*h*m*\\xi(t)**3*sin(\\omega*t - \\varphi_0) + J_3*\\omega**2*b*h*m*\\xi(t)**3*sin(\\omega*t + \\varphi_0) + J_3*\\omega**2*b*h*m*\\xi(t)**2*cos(\\omega*t - \\varphi_0) - J_3*\\omega**2*b*h*m*\\xi(t)**2*cos(\\omega*t + \\varphi_0) + J_3*\\omega**2*b*m*\\varphi(t)*\\xi(t)**3*sin(2*\\varphi_0) + J_3*\\omega**2*b*m*\\varphi(t)*\\xi(t)**2*sin(2*\\varphi_0)/2 - J_3*\\omega**2*b*m*\\xi(t)**3*cos(2*\\varphi_0)/2 + J_3*\\omega**2*b*m*\\xi(t)**3/2 - J_3*\\omega**2*b*m*\\xi(t)**2*cos(2*\\varphi_0)/2 + J_3*\\omega**2*b*m*\\xi(t)**2/2 + J_3*\\omega**2*h*m*\\xi(t)**3*sin(\\omega*t - \\varphi_0) + J_3*\\omega**2*h*m*\\xi(t)**3*sin(\\omega*t + \\varphi_0) + J_3*\\omega**2*h*m*\\xi(t)**2*cos(\\omega*t - \\varphi_0) - J_3*\\omega**2*h*m*\\xi(t)**2*cos(\\omega*t + \\varphi_0) + J_3*\\omega**2*m*\\varphi(t)*\\xi(t)**3*sin(2*\\varphi_0) - J_3*\\omega**2*m*\\xi(t)**3*cos(2*\\varphi_0)/2 + J_3*\\omega**2*m*\\xi(t)**3/2 + J_3*a*b**2*m*\\varphi(t)*\\xi(t)*Derivative(\\psi(t), t)**2 - J_3*a*b**2*m*\\varphi(t)*Derivative(\\psi(t), t)**2 + J_3*a*b*m*\\varphi(t)*\\xi(t)**2*Derivative(\\psi(t), t)**2 + J_3*a*m*\\varphi(t)*\\xi(t)**2*Derivative(\\psi(t), t)**2 - J_3*b**3*k**2*\\xi(t) + J_3*b**3*k**2 + J_3*b**3*m*\\xi(t)*Derivative(\\varphi(t), t)**2 - J_3*b**3*m*Derivative(\\varphi(t), t)**2 + J_3*b**2*g*m*\\xi(t)*cos(\\varphi_0) - J_3*b**2*g*m*cos(\\varphi_0) + J_3*b**2*k**2*l*\\xi(t) - J_3*b**2*k**2*l - 2*J_3*b**2*k**2*\\xi(t)**2 + J_3*b**2*k**2*\\xi(t) + 2*J_3*b**2*m*\\xi(t)**2*Derivative(\\varphi(t), t)**2 - J_3*b**2*m*\\xi(t)*Derivative(\\varphi(t), t)**2 + J_3*b*g*m*\\xi(t)**2*cos(\\varphi_0) + J_3*b*k**2*l*\\xi(t)**2 - J_3*b*k**2*\\xi(t)**3 - J_3*b*k**2*\\xi(t)**2 + J_3*b*m*\\xi(t)**3*Derivative(\\varphi(t), t)**2 + J_3*b*m*\\xi(t)**2*Derivative(\\varphi(t), t)**2 + J_3*g*m*\\xi(t)**2*cos(\\varphi_0) + J_3*k**2*l*\\xi(t)**2 - J_3*k**2*\\xi(t)**3 + J_3*m*\\xi(t)**3*Derivative(\\varphi(t), t)**2 - \\omega**2*a**3*b**2*m**2*\\psi(t)**2*\\xi(t)*cos(2*\\varphi_0)/2 - \\omega**2*a**3*b**2*m**2*\\psi(t)**2*\\xi(t)/2 - \\omega**2*a**3*b**2*m**2*\\psi(t)*\\varphi(t)*\\xi(t)*cos(2*\\varphi_0)/2 - \\omega**2*a**3*b**2*m**2*\\psi(t)*\\varphi(t)*\\xi(t)/2 - \\omega**2*a**3*b**2*m**2*\\psi(t)*\\xi(t)*sin(2*\\varphi_0)/2 + \\omega**2*a**3*b**2*m**2*\\xi(t)*cos(2*\\varphi_0)/2 + \\omega**2*a**3*b**2*m**2*\\xi(t)*cos(2*\\omega*t)/2 - \\omega**2*a**3*b**2*m**2*\\xi(t) - \\omega**2*a**3*b*m**2*\\psi(t)**3*\\xi(t)*sin(2*\\varphi_0) - \\omega**2*a**3*b*m**2*\\psi(t)**2*\\xi(t)**2*cos(2*\\varphi_0)/2 - \\omega**2*a**3*b*m**2*\\psi(t)**2*\\xi(t)**2/2 + \\omega**2*a**3*b*m**2*\\psi(t)**2*\\xi(t)*cos(2*\\varphi_0)/2 + \\omega**2*a**3*b*m**2*\\psi(t)**2*\\xi(t)/2 - \\omega**2*a**3*b*m**2*\\psi(t)*\\varphi(t)*\\xi(t)**2*cos(2*\\varphi_0)/2 - \\omega**2*a**3*b*m**2*\\psi(t)*\\varphi(t)*\\xi(t)**2/2 + \\omega**2*a**3*b*m**2*\\psi(t)*\\varphi(t)*\\xi(t)*cos(2*\\varphi_0)/2 + \\omega**2*a**3*b*m**2*\\psi(t)*\\varphi(t)*\\xi(t)/2 - \\omega**2*a**3*b*m**2*\\psi(t)*\\xi(t)**2*sin(2*\\varphi_0)/2 + 3*\\omega**2*a**3*b*m**2*\\psi(t)*\\xi(t)*sin(2*\\varphi_0)/2 + \\omega**2*a**3*b*m**2*\\xi(t)**2*cos(2*\\varphi_0)/2 + \\omega**2*a**3*b*m**2*\\xi(t)**2*cos(2*\\omega*t)/2 - \\omega**2*a**3*b*m**2*\\xi(t)**2 - \\omega**2*a**3*b*m**2*\\xi(t)*cos(2*\\varphi_0)/2 - \\omega**2*a**3*b*m**2*\\xi(t)*cos(2*\\omega*t)/2 + \\omega**2*a**3*b*m**2*\\xi(t) - \\omega**2*a**3*m**2*\\psi(t)**2*\\xi(t)**2*cos(2*\\varphi_0)/2 - \\omega**2*a**3*m**2*\\psi(t)**2*\\xi(t)**2/2 - \\omega**2*a**3*m**2*\\psi(t)*\\varphi(t)*\\xi(t)**2*cos(2*\\varphi_0)/2 - \\omega**2*a**3*m**2*\\psi(t)*\\varphi(t)*\\xi(t)**2/2 - \\omega**2*a**3*m**2*\\psi(t)*\\xi(t)**2*sin(2*\\varphi_0)/2 + \\omega**2*a**3*m**2*\\xi(t)**2*cos(2*\\varphi_0)/2 + \\omega**2*a**3*m**2*\\xi(t)**2*cos(2*\\omega*t)/2 - \\omega**2*a**3*m**2*\\xi(t)**2 - \\omega**2*a**2*b**3*m**2*\\psi(t)*\\varphi(t)*\\xi(t)*cos(2*\\varphi_0)/2 - \\omega**2*a**2*b**3*m**2*\\psi(t)*\\varphi(t)*\\xi(t)/2 - \\omega**2*a**2*b**3*m**2*\\varphi(t)*\\xi(t)*sin(2*\\varphi_0)/2 + \\omega**2*a**2*b**3*m**2*\\xi(t)*cos(2*\\varphi_0)/2 - \\omega**2*a**2*b**3*m**2*\\xi(t)/2 + \\omega**2*a**2*b**2*h*m**2*\\psi(t)**2*\\xi(t)*cos(\\omega*t - \\varphi_0) - \\omega**2*a**2*b**2*h*m**2*\\psi(t)**2*\\xi(t)*cos(\\omega*t + \\varphi_0) - \\omega**2*a**2*b**2*h*m**2*\\psi(t)**2*cos(\\omega*t - \\varphi_0) + \\omega**2*a**2*b**2*h*m**2*\\psi(t)**2*cos(\\omega*t + \\varphi_0) - \\omega**2*a**2*b**2*h*m**2*\\xi(t)**2*sin(\\omega*t - \\varphi_0) - \\omega**2*a**2*b**2*h*m**2*\\xi(t)**2*sin(\\omega*t + \\varphi_0) - \\omega**2*a**2*b**2*h*m**2*\\xi(t)*cos(\\omega*t - \\varphi_0) + \\omega**2*a**2*b**2*h*m**2*\\xi(t)*cos(\\omega*t + \\varphi_0) - \\omega**2*a**2*b**2*m**2*\\psi(t)**2*\\varphi(t)*\\xi(t)*sin(2*\\varphi_0) + \\omega**2*a**2*b**2*m**2*\\psi(t)**2*\\xi(t)*cos(2*\\varphi_0)/2 - \\omega**2*a**2*b**2*m**2*\\psi(t)**2*\\xi(t)/2 - \\omega**2*a**2*b**2*m**2*\\psi(t)*\\varphi(t)*\\xi(t)**2*cos(2*\\varphi_0)/2 - \\omega**2*a**2*b**2*m**2*\\psi(t)*\\varphi(t)*\\xi(t)**2/2 + \\omega**2*a**2*b**2*m**2*\\psi(t)*\\varphi(t)*\\xi(t) - \\omega**2*a**2*b**2*m**2*\\psi(t)*\\xi(t)**2*sin(2*\\varphi_0)/2 + \\omega**2*a**2*b**2*m**2*\\psi(t)*\\xi(t)*sin(2*\\varphi_0) - 3*\\omega**2*a**2*b**2*m**2*\\varphi(t)*\\xi(t)**2*sin(2*\\varphi_0)/2 + \\omega**2*a**2*b**2*m**2*\\varphi(t)*\\xi(t)*sin(2*\\varphi_0)/2 + \\omega**2*a**2*b**2*m**2*\\xi(t)**2*cos(2*\\varphi_0) - \\omega**2*a**2*b**2*m**2*\\xi(t)**2 - \\omega**2*a**2*b**2*m**2*\\xi(t)*cos(2*\\varphi_0)/2 + \\omega**2*a**2*b**2*m**2*\\xi(t)/2 + \\omega**2*a**2*b*h*m**2*\\psi(t)**2*\\xi(t)**2*cos(\\omega*t - \\varphi_0) - \\omega**2*a**2*b*h*m**2*\\psi(t)**2*\\xi(t)**2*cos(\\omega*t + \\varphi_0) + 2*\\omega**2*a**2*b*h*m**2*\\psi(t)*\\xi(t)*sin(\\omega*t - \\varphi_0) + 2*\\omega**2*a**2*b*h*m**2*\\psi(t)*\\xi(t)*sin(\\omega*t + \\varphi_0) - \\omega**2*a**2*b*h*m**2*\\xi(t)**3*sin(\\omega*t - \\varphi_0) - \\omega**2*a**2*b*h*m**2*\\xi(t)**3*sin(\\omega*t + \\varphi_0) - sqrt(2)*\\omega**2*a**2*b*h*m**2*\\xi(t)**2*sin(-\\omega*t + \\varphi_0 + pi/4) + sqrt(2)*\\omega**2*a**2*b*h*m**2*\\xi(t)**2*sin(\\omega*t + \\varphi_0 + pi/4) + \\omega**2*a**2*b*h*m**2*\\xi(t)*cos(\\omega*t - \\varphi_0) - \\omega**2*a**2*b*h*m**2*\\xi(t)*cos(\\omega*t + \\varphi_0) - \\omega**2*a**2*b*m**2*\\psi(t)**2*\\varphi(t)*\\xi(t)**2*sin(2*\\varphi_0) + \\omega**2*a**2*b*m**2*\\psi(t)**2*\\xi(t)**2*cos(2*\\varphi_0)/2 - \\omega**2*a**2*b*m**2*\\psi(t)**2*\\xi(t)**2/2 + \\omega**2*a**2*b*m**2*\\psi(t)*\\varphi(t)*\\xi(t)**2*cos(2*\\varphi_0) - \\omega**2*a**2*b*m**2*\\psi(t)*\\xi(t)**3*sin(2*\\varphi_0)/2 + \\omega**2*a**2*b*m**2*\\psi(t)*\\xi(t)**2*sin(2*\\varphi_0)/2 - \\omega**2*a**2*b*m**2*\\varphi(t)*\\xi(t)**3*sin(2*\\varphi_0) + \\omega**2*a**2*b*m**2*\\varphi(t)*\\xi(t)**2*sin(2*\\varphi_0)/2 + \\omega**2*a**2*b*m**2*\\xi(t)**3*cos(2*\\varphi_0)/2 - \\omega**2*a**2*b*m**2*\\xi(t)**3/2 + \\omega**2*a**2*h*m**2*\\psi(t)**2*\\xi(t)**2*cos(\\omega*t - \\varphi_0) - \\omega**2*a**2*h*m**2*\\psi(t)**2*\\xi(t)**2*cos(\\omega*t + \\varphi_0) - \\omega**2*a**2*h*m**2*\\xi(t)**3*sin(\\omega*t - \\varphi_0) - \\omega**2*a**2*h*m**2*\\xi(t)**3*sin(\\omega*t + \\varphi_0) - \\omega**2*a**2*h*m**2*\\xi(t)**2*cos(\\omega*t - \\varphi_0) + \\omega**2*a**2*h*m**2*\\xi(t)**2*cos(\\omega*t + \\varphi_0) - \\omega**2*a**2*m**2*\\psi(t)*\\xi(t)**3*sin(2*\\varphi_0)/2 - \\omega**2*a**2*m**2*\\varphi(t)*\\xi(t)**3*sin(2*\\varphi_0) + \\omega**2*a**2*m**2*\\xi(t)**3*cos(2*\\varphi_0)/2 - \\omega**2*a**2*m**2*\\xi(t)**3/2 - a**3*b**2*m**2*\\varphi(t)*\\xi(t)*Derivative(\\psi(t), t)**2 - a**3*b*m**2*\\varphi(t)*\\xi(t)**2*Derivative(\\psi(t), t)**2 + a**3*b*m**2*\\varphi(t)*\\xi(t)*Derivative(\\psi(t), t)**2 - a**3*m**2*\\varphi(t)*\\xi(t)**2*Derivative(\\psi(t), t)**2 + a**2*b**3*k**2*m*\\psi(t)**2*\\xi(t) - a**2*b**3*k**2*m*\\psi(t)**2 + a**2*b**3*k**2*m*\\psi(t)*\\varphi(t) + a**2*b**3*k**2*m*\\xi(t) - a**2*b**3*m**2*\\xi(t)*Derivative(\\varphi(t), t)**2 - a**2*b**2*g*m**2*\\xi(t)*cos(\\varphi_0) - a**2*b**2*k**2*l*m*\\psi(t)**2*\\xi(t) + a**2*b**2*k**2*l*m*\\psi(t)**2 - a**2*b**2*k**2*l*m*\\psi(t)*\\varphi(t) - a**2*b**2*k**2*l*m*\\xi(t) + a**2*b**2*k**2*m*\\psi(t)**2*\\xi(t)**2 - a**2*b**2*k**2*m*\\psi(t)*\\varphi(t)*\\xi(t) + 2*a**2*b**2*k**2*m*\\xi(t)**2 - a**2*b**2*k**2*m*\\xi(t) - 2*a**2*b**2*m**2*\\psi(t)**2*\\xi(t)*Derivative(\\varphi(t), t)**2 + 2*a**2*b**2*m**2*\\psi(t)*\\varphi(t)*\\xi(t)*Derivative(\\varphi(t), t)**2 - 2*a**2*b**2*m**2*\\xi(t)**2*Derivative(\\varphi(t), t)**2 + a**2*b**2*m**2*\\xi(t)*Derivative(\\varphi(t), t)**2 - 2*a**2*b*g*m**2*\\psi(t)*\\xi(t)*sin(\\varphi_0) - a**2*b*g*m**2*\\xi(t)**2*cos(\\varphi_0) + a**2*b*g*m**2*\\xi(t)*cos(\\varphi_0) - a**2*b*k**2*l*m*\\psi(t)**2*\\xi(t)**2 + a**2*b*k**2*l*m*\\psi(t)*\\varphi(t)*\\xi(t) - a**2*b*k**2*l*m*\\xi(t)**2 + a**2*b*k**2*l*m*\\xi(t) + a**2*b*k**2*m*\\psi(t)**2*\\xi(t)**2 + a**2*b*k**2*m*\\xi(t)**3 - 2*a**2*b*m**2*\\psi(t)**2*\\xi(t)**2*Derivative(\\varphi(t), t)**2 + 2*a**2*b*m**2*\\psi(t)*\\varphi(t)*\\xi(t)**2*Derivative(\\varphi(t), t)**2 - 4*a**2*b*m**2*\\psi(t)*\\xi(t)*Derivative(\\varphi(t), t)*Derivative(\\xi(t), t) - a**2*b*m**2*\\xi(t)**3*Derivative(\\varphi(t), t)**2 - a**2*g*m**2*\\xi(t)**2*cos(\\varphi_0) - a**2*k**2*l*m*\\psi(t)**2*\\xi(t)**2 - a**2*k**2*l*m*\\xi(t)**2 + a**2*k**2*m*\\xi(t)**3 - a**2*m**2*\\xi(t)**3*Derivative(\\varphi(t), t)**2)/(m*(J_3*b**2*\\xi(t) - J_3*b**2 + J_3*b*\\xi(t)**2 + J_3*\\xi(t)**2 - a**2*b**2*m*\\xi(t) - 2*a**2*b*m*\\psi(t)**2*\\xi(t) + 2*a**2*b*m*\\psi(t)*\\varphi(t)*\\xi(t) - a**2*b*m*\\xi(t)**2 + a**2*b*m*\\xi(t) - a**2*m*\\xi(t)**2))"
      ]
     },
     "execution_count": 30,
     "metadata": {},
     "output_type": "execute_result"
    }
   ],
   "source": [
    "sols[chi_dd]"
   ]
  },
  {
   "cell_type": "markdown",
   "id": "e80b835a",
   "metadata": {},
   "source": [
    "Se convierten a expresiones numéricas con el fin de poder utilizar métodos númericos para resolverlas. Dividiendo el sistema de 3 ecuaciones de segundo orden en 6 ecuaciones de primer orden, de modo que:\n",
    "- $d\\xi/dt = v_1$\n",
    "- $dv_1/dt = \\dots$\n",
    "- $d\\varphi/dt = v_2$\n",
    "- $dv_2/dt = \\dots$\n",
    "- $d\\psi/dt = v_3$\n",
    "- $dv_3/dt = \\dots$"
   ]
  },
  {
   "cell_type": "code",
   "execution_count": 25,
   "id": "2c6b2a0c",
   "metadata": {},
   "outputs": [],
   "source": [
    "dchidt_f = smp.lambdify(chi_d, chi_d, modules=['numpy']) \n",
    "dv1dt_f = smp.lambdify((m,w,l,J_3,a,b,g,h,phi_0,k,chi,chi_d,phi,phi_d,psi,psi_d,t), sols[chi_dd], modules=['numpy'])\n",
    "\n",
    "dphidt_f = smp.lambdify(phi_d, phi_d, modules=['numpy']) \n",
    "dv2dt_f = smp.lambdify((m,w,l,J_3,a,b,g,h,phi_0,k,chi,chi_d,phi,phi_d,psi,psi_d,t), sols[phi_dd], modules=['numpy'])\n",
    "\n",
    "dpsidt_f = smp.lambdify(psi_d, psi_d, modules=['numpy']) \n",
    "dv3dt_f = smp.lambdify((m,w,l,J_3,a,b,g,h,phi_0,k,chi,chi_d,phi,phi_d,psi,psi_d,t), sols[psi_dd], modules=['numpy'])"
   ]
  },
  {
   "cell_type": "markdown",
   "id": "50a1ad4a",
   "metadata": {},
   "source": [
    "Se define $\\vec{S} = (\\xi, v_1, \\varphi, v_2, \\psi, v_3)$, de modo que el sistema que se busca solucionar es ahora de la forma: $$\\frac{d \\vec{S}}{dt} = f(t, \\vec{S})$$"
   ]
  },
  {
   "cell_type": "code",
   "execution_count": null,
   "id": "473c0f34",
   "metadata": {},
   "outputs": [],
   "source": [
    "def dSdt(t, S):\n",
    "    chi, v1, phi, v2, psi, v3 = S\n",
    "    return [\n",
    "    dchidt_f(v1),\n",
    "    dv1dt_f(m,w,l,J_3,a,b,g,h,phi_0,k,chi,v1,phi,v2,psi,v3,t),\n",
    "    dphidt_f(v2),\n",
    "    dv2dt_f(m,w,l,J_3,a,b,g,h,phi_0,k,chi,v1,phi,v2,psi,v3,t),\n",
    "    dpsidt_f(v3),\n",
    "    dv3dt_f(m,w,l,J_3,a,b,g,h,phi_0,k,chi,v1,phi,v2,psi,v3,t)\n",
    "    ]\n",
    "    "
   ]
  },
  {
   "cell_type": "code",
   "execution_count": null,
   "id": "4d6497c5",
   "metadata": {},
   "outputs": [],
   "source": [
    "t = np.linspace(0, 102, 1_000_000)\n",
    "m = 50\n",
    "w = 4\n",
    "l = 0.7\n",
    "J_3 = 8\n",
    "a = 0.5\n",
    "b = 3\n",
    "g = 9.8\n",
    "h = 2.4\n",
    "phi_0 = 0\n",
    "k = np.power(w, 2)*m\n",
    "\n",
    "# Iniciales xi, xi', phi, phi', psi, psi'\n",
    "y0 = [0.001, 0, 0.1, 0, 0.01, 0]\n",
    "\n",
    "#Problemas con el metodo RK45 o el solver en general, revisar ecuaciones y condiciones iniciales, pues dan derivadas muy grandes\n",
    "ans = solve_ivp(dSdt, (t[0], t[-1]), y0, method='Radau', t_eval=t) #, atol=1e-6, rtol=1e-6, max_step=0.001\n"
   ]
  },
  {
   "cell_type": "code",
   "execution_count": 55,
   "id": "01c089cd",
   "metadata": {},
   "outputs": [],
   "source": [
    "xi = ans.y[0]\n",
    "xi_d = ans.y[1]\n",
    "phi = ans.y[2]\n",
    "phi_d = ans.y[3]\n",
    "psi = ans.y[4]\n",
    "psi_d = ans.y[5]\n",
    " "
   ]
  },
  {
   "cell_type": "code",
   "execution_count": 56,
   "id": "01fb9a35",
   "metadata": {},
   "outputs": [
    {
     "name": "stdout",
     "output_type": "stream",
     "text": [
      "[ 1.00000000e-03  8.46626857e-04  3.86514735e-04 -3.80252336e-04\n",
      " -1.45356822e-03 -2.83328534e-03 -4.51918425e-03 -6.51102021e-03\n",
      " -8.80852206e-03 -1.14113218e-02 -1.43190360e-02 -1.75312598e-02\n",
      " -2.10475025e-02 -2.48672264e-02 -2.89898718e-02 -3.34148433e-02\n",
      " -3.81414462e-02 -4.31689686e-02 -4.84966763e-02 -5.41237480e-02\n",
      " -6.00493076e-02 -6.62724566e-02 -7.27922606e-02 -7.96076759e-02\n",
      " -8.67176385e-02 -9.41210604e-02 -1.01816762e-01 -1.09803495e-01\n",
      " -1.18079991e-01 -1.26644940e-01 -1.35496908e-01 -1.44634426e-01\n",
      " -1.54056016e-01 -1.63760116e-01 -1.73745017e-01 -1.84009008e-01\n",
      " -1.94550313e-01 -2.05367166e-01 -2.16457565e-01 -2.27819483e-01\n",
      " -2.39450852e-01 -2.51349596e-01 -2.63513453e-01 -2.75940027e-01\n",
      " -2.88626924e-01 -3.01571640e-01 -3.14771687e-01 -3.28224249e-01\n",
      " -3.41926504e-01 -3.55875555e-01 -3.70068518e-01 -3.84502182e-01\n",
      " -3.99173218e-01 -4.14078291e-01 -4.29213954e-01 -4.44576538e-01\n",
      " -4.60162232e-01 -4.75967163e-01 -4.91987231e-01 -5.08218165e-01\n",
      " -5.24655624e-01 -5.41294996e-01 -5.58131481e-01 -5.75160201e-01\n",
      " -5.92375950e-01 -6.09773316e-01 -6.27346791e-01 -6.45090474e-01\n",
      " -6.62998226e-01 -6.81063793e-01 -6.99280432e-01 -7.17641146e-01\n",
      " -7.36138700e-01 -7.54765345e-01 -7.73513068e-01 -7.92373298e-01\n",
      " -8.11337096e-01 -8.30394906e-01 -8.49536643e-01 -8.68751531e-01\n",
      " -8.88028058e-01 -9.07353847e-01 -9.26715598e-01 -9.46098798e-01\n",
      " -9.65487665e-01 -9.84864869e-01 -1.00421111e+00 -1.02350487e+00\n",
      " -1.04272180e+00 -1.06183395e+00 -1.08080885e+00 -1.09960796e+00\n",
      " -1.11818463e+00 -1.13648073e+00 -1.15442137e+00 -1.17190547e+00\n",
      " -1.18878785e+00 -1.20483983e+00 -1.21964126e+00 -1.23212253e+00]\n",
      "Required step size is less than spacing between numbers.\n",
      "[0, -29484.40712350831, 0, 316.99736504881156, 0, -8283.024701661358]\n",
      "0.0 102.0\n",
      "0.010098010098010098\n"
     ]
    }
   ],
   "source": [
    "print(xi)\n",
    "print(ans.message)\n",
    "print(dSdt(0, y0)) # Valor de las derivadas es muy grande\n",
    "print(t[0], t[-1])\n",
    "print(ans.t[-1])\n",
    " "
   ]
  },
  {
   "cell_type": "code",
   "execution_count": 57,
   "id": "78dce623",
   "metadata": {},
   "outputs": [
    {
     "data": {
      "text/plain": [
       "[<matplotlib.lines.Line2D at 0x7f6751cdd0f0>]"
      ]
     },
     "execution_count": 57,
     "metadata": {},
     "output_type": "execute_result"
    },
    {
     "data": {
      "image/png": "[encoded data removed]",
      "text/plain": [
       "<Figure size 640x480 with 1 Axes>"
      ]
     },
     "metadata": {},
     "output_type": "display_data"
    }
   ],
   "source": [
    "plt.plot(ans.t, xi)"
   ]
  }
 ],
 "metadata": {
  "kernelspec": {
   "display_name": "ProgMet",
   "language": "python",
   "name": "python3"
  },
  "language_info": {
   "codemirror_mode": {
    "name": "ipython",
    "version": 3
   },
   "file_extension": ".py",
   "mimetype": "text/x-python",
   "name": "python",
   "nbconvert_exporter": "python",
   "pygments_lexer": "ipython3",
   "version": "3.10.8"
  }
 },
 "nbformat": 4,
 "nbformat_minor": 5
}
